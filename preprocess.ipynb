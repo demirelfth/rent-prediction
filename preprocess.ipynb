{
 "cells": [
  {
   "cell_type": "markdown",
   "metadata": {},
   "source": [
    "# Rent Prediction Application For Egean Area"
   ]
  },
  {
   "cell_type": "code",
   "execution_count": 2,
   "metadata": {},
   "outputs": [],
   "source": [
    "import os\n",
    "import numpy as np\n",
    "import pandas as pd"
   ]
  },
  {
   "cell_type": "code",
   "execution_count": null,
   "metadata": {},
   "outputs": [],
   "source": [
    "# to gain information about python function\n",
    "dir(pd)\n",
    "help(pd.read_csv)\n",
    "pd.read_csv('hepsiemlak/01.csv')\n",
    "df = pd.read_csv('hepsiemlak/01.csv')\n",
    "print(df)\n",
    "dir(df)\n",
    "print(df.info())\n",
    "dir(os)\n",
    "os.listdir('hepsiemlak')\n",
    "\n",
    "files = os.listdir('hepsiemlak')\n",
    "for file in sorted(files):\n",
    "    # print(file)\n",
    "    # df = pd.read_csv('hepsiemlak/' + file)\n",
    "    df = pd.read_csv(f\"hepsiemlak/{file}\")"
   ]
  },
  {
   "cell_type": "code",
   "execution_count": 8,
   "metadata": {},
   "outputs": [],
   "source": [
    "def drop_columns(df, cols):\n",
    "    \"\"\"\n",
    "    This function removes the columns from a DataFrame.\n",
    "    \"\"\"\n",
    "    for col in cols:\n",
    "        try:\n",
    "            df.drop([col], axis=1, inplace=True)\n",
    "        except Exception as e:\n",
    "            print(f\"Bir hata oluştu: {e}\")"
   ]
  },
  {
   "cell_type": "code",
   "execution_count": 7,
   "metadata": {},
   "outputs": [],
   "source": [
    "files = os.listdir('hepsiemlak')\n",
    "df = pd.concat([pd.read_csv(f\"hepsiemlak/{file}\") for file in files], ignore_index=True)"
   ]
  },
  {
   "cell_type": "code",
   "execution_count": 9,
   "metadata": {},
   "outputs": [
    {
     "name": "stdout",
     "output_type": "stream",
     "text": [
      "<class 'pandas.core.frame.DataFrame'>\n",
      "RangeIndex: 8136 entries, 0 to 8135\n",
      "Data columns (total 18 columns):\n",
      " #   Column               Non-Null Count  Dtype  \n",
      "---  ------               --------------  -----  \n",
      " 0   img-link href        8136 non-null   object \n",
      " 1   photo-count          8130 non-null   float64\n",
      " 2   list-view-price      8136 non-null   object \n",
      " 3   list-view-date       8136 non-null   object \n",
      " 4   left                 8114 non-null   object \n",
      " 5   celly                8136 non-null   object \n",
      " 6   celly 2              8136 non-null   object \n",
      " 7   celly 3              8136 non-null   object \n",
      " 8   celly 4              6858 non-null   object \n",
      " 9   list-view-location   8136 non-null   object \n",
      " 10  img-wrp href         4555 non-null   object \n",
      " 11  he-lazy-image src    7649 non-null   object \n",
      " 12  he-lazy-image src 2  4067 non-null   object \n",
      " 13  list-view-header     8129 non-null   object \n",
      " 14  branded__text        134 non-null    object \n",
      " 15  branded__text 2      134 non-null    object \n",
      " 16  img-wrp href 2       133 non-null    object \n",
      " 17  he-lazy-image src 3  116 non-null    object \n",
      "dtypes: float64(1), object(17)\n",
      "memory usage: 1.1+ MB\n",
      "None\n"
     ]
    }
   ],
   "source": [
    "print(df.info())"
   ]
  },
  {
   "cell_type": "code",
   "execution_count": 10,
   "metadata": {},
   "outputs": [
    {
     "name": "stdout",
     "output_type": "stream",
     "text": [
      "Index(['img-link href', 'photo-count', 'list-view-price', 'list-view-date',\n",
      "       'left', 'celly', 'celly 2', 'celly 3', 'celly 4', 'list-view-location',\n",
      "       'img-wrp href', 'he-lazy-image src', 'he-lazy-image src 2',\n",
      "       'list-view-header', 'branded__text', 'branded__text 2',\n",
      "       'img-wrp href 2', 'he-lazy-image src 3'],\n",
      "      dtype='object')\n"
     ]
    }
   ],
   "source": [
    "print(df.columns)"
   ]
  },
  {
   "cell_type": "code",
   "execution_count": 11,
   "metadata": {},
   "outputs": [],
   "source": [
    "cols = ['photo-count', 'list-view-date', 'list-view-header', 'list-view-location', 'he-lazy-image src', 'left', 'img-wrp href', 'he-lazy-image src 2', 'branded__text', 'branded__text 2', 'img-wrp href 2', 'he-lazy-image src 3']\n",
    "drop_columns(df, cols)"
   ]
  },
  {
   "cell_type": "code",
   "execution_count": 12,
   "metadata": {},
   "outputs": [
    {
     "name": "stdout",
     "output_type": "stream",
     "text": [
      "<class 'pandas.core.frame.DataFrame'>\n",
      "RangeIndex: 8136 entries, 0 to 8135\n",
      "Data columns (total 6 columns):\n",
      " #   Column           Non-Null Count  Dtype \n",
      "---  ------           --------------  ----- \n",
      " 0   img-link href    8136 non-null   object\n",
      " 1   list-view-price  8136 non-null   object\n",
      " 2   celly            8136 non-null   object\n",
      " 3   celly 2          8136 non-null   object\n",
      " 4   celly 3          8136 non-null   object\n",
      " 5   celly 4          6858 non-null   object\n",
      "dtypes: object(6)\n",
      "memory usage: 381.5+ KB\n",
      "None\n"
     ]
    }
   ],
   "source": [
    "print(df.info())"
   ]
  },
  {
   "cell_type": "code",
   "execution_count": 13,
   "metadata": {},
   "outputs": [],
   "source": [
    "df['location'] = df['img-link href'].apply(lambda x: x.split('/')[3])\n",
    "df['city'] = df['location'].str.split('-').str[0]\n",
    "df['district'] = df['location'].str.split('-').str[1]\n",
    "df['neighborhood'] = df['location'].str.split('-').str[2:-1]\n",
    "df['neighborhood'] = df['neighborhood'].apply(lambda x: '_'.join(x))"
   ]
  },
  {
   "cell_type": "code",
   "execution_count": 14,
   "metadata": {},
   "outputs": [],
   "source": [
    "drop_columns(df, ['location', 'img-link href'])"
   ]
  },
  {
   "cell_type": "code",
   "execution_count": 15,
   "metadata": {},
   "outputs": [
    {
     "name": "stdout",
     "output_type": "stream",
     "text": [
      "<class 'pandas.core.frame.DataFrame'>\n",
      "RangeIndex: 8136 entries, 0 to 8135\n",
      "Data columns (total 8 columns):\n",
      " #   Column           Non-Null Count  Dtype \n",
      "---  ------           --------------  ----- \n",
      " 0   list-view-price  8136 non-null   object\n",
      " 1   celly            8136 non-null   object\n",
      " 2   celly 2          8136 non-null   object\n",
      " 3   celly 3          8136 non-null   object\n",
      " 4   celly 4          6858 non-null   object\n",
      " 5   city             8136 non-null   object\n",
      " 6   district         8136 non-null   object\n",
      " 7   neighborhood     8136 non-null   object\n",
      "dtypes: object(8)\n",
      "memory usage: 508.6+ KB\n",
      "None\n"
     ]
    }
   ],
   "source": [
    "print(df.info())"
   ]
  },
  {
   "cell_type": "code",
   "execution_count": 16,
   "metadata": {},
   "outputs": [
    {
     "name": "stdout",
     "output_type": "stream",
     "text": [
      "                city      district          neighborhood\n",
      "1275           izmir     kemalpasa  yukarikizilca_merkez\n",
      "648            izmir       menemen           yesil_pinar\n",
      "5957           mugla        bodrum              akyarlar\n",
      "1323           izmir     karsiyaka               atakent\n",
      "3690          manisa       akhisar                  pasa\n",
      "3878          manisa    sehzadeler           yarhasanlar\n",
      "7932           mugla        bodrum                 geris\n",
      "2774           izmir          buca             kurucesme\n",
      "3510           izmir       bornova               kizilay\n",
      "6706           mugla       mentese               yenikoy\n",
      "7145           mugla      koycegiz            dogusbelen\n",
      "7600           mugla        bodrum                gumbet\n",
      "4778           aydin      kusadasi       kadinlar_denizi\n",
      "7822           mugla       fethiye              incirkoy\n",
      "1503           izmir         cesme                 ardic\n",
      "1018           izmir         konak              alsancak\n",
      "2501           izmir       bornova                evka_4\n",
      "4017  afyonkarahisar        merkez            dumlupinar\n",
      "679            izmir   seferihisar               ataturk\n",
      "746            izmir          buca                camlik\n",
      "6245           mugla        bodrum               konacik\n",
      "4763           aydin      kusadasi          degirmendere\n",
      "3175           izmir       balcova            cetin_emec\n",
      "3112           izmir      gaziemir                 sevgi\n",
      "3564           izmir      gaziemir                 yesil\n",
      "5458         denizli  merkezefendi              semikler\n",
      "989            izmir    karabaglar          basin_sitesi\n",
      "1774           izmir         cesme               alacati\n",
      "4526           aydin      kusadasi          bayraklidede\n",
      "5094         denizli  merkezefendi              semikler\n",
      "3892         kutahya        merkez             yunusemre\n",
      "3425           izmir         konak                kultur\n",
      "1397           izmir         cesme               alacati\n",
      "4886         denizli  merkezefendi              sevindik\n",
      "4873         denizli     pamukkale               bagbasi\n",
      "4626           aydin        efeler                zeybek\n",
      "6349           mugla         milas                 becin\n",
      "5480         denizli     pamukkale             mehmetcik\n",
      "3568           izmir         cesme                dalyan\n",
      "2612           izmir         konak              barbaros\n",
      "1499           izmir          urla              guvendik\n",
      "1344           izmir   seferihisar            cumhuriyet\n",
      "2764           izmir        selcuk              14_mayis\n",
      "2813           izmir     kemalpasa      armutlu_hurriyet\n",
      "7431           mugla      koycegiz               ulucami\n",
      "2829           izmir          urla                iskele\n",
      "6388           mugla        bodrum              mumcular\n",
      "4983         denizli        cameli                  yeni\n",
      "7962           mugla      marmaris                turgut\n",
      "3128           izmir         cesme               alacati\n"
     ]
    }
   ],
   "source": [
    "print(df[['city', 'district', 'neighborhood']].sample(50))"
   ]
  },
  {
   "cell_type": "code",
   "execution_count": 17,
   "metadata": {},
   "outputs": [
    {
     "name": "stdout",
     "output_type": "stream",
     "text": [
      "Index(['list-view-price', 'celly', 'celly 2', 'celly 3', 'celly 4', 'city',\n",
      "       'district', 'neighborhood'],\n",
      "      dtype='object')\n"
     ]
    }
   ],
   "source": [
    "print(df.columns)"
   ]
  },
  {
   "cell_type": "code",
   "execution_count": 18,
   "metadata": {},
   "outputs": [
    {
     "name": "stdout",
     "output_type": "stream",
     "text": [
      "['1 +\\n                        1' '3 +\\n                        1'\n",
      " '2 +\\n                        1' '4 +\\n                        1'\n",
      " '4 +\\n                        2' '5 +\\n                        1'\n",
      " '6 +\\n                        1' '7 +\\n                        1'\n",
      " '21 +\\n                        1' '6 +\\n                        2'\n",
      " '5 +\\n                        2' 'Stüdyo'\n",
      " '7 +\\n                        2' '3 +\\n                        2'\n",
      " '2 +\\n                        0' '6 +\\n                        0'\n",
      " '9 +\\n                        4' '9 +\\n                        1'\n",
      " '3 +\\n                        0' '1 +\\n                        15'\n",
      " '2 +\\n                        2' '8 +\\n                        1'\n",
      " '41 +\\n                        4' '4 +\\n                        0'\n",
      " '1 +\\n                        25' '4 +\\n                        4'\n",
      " '3 +\\n                        4' '1 +\\n                        2'\n",
      " '3 +\\n                        3' '31 +\\n                        1'\n",
      " '4 +\\n                        3' '9 +\\n                        5'\n",
      " '8 +\\n                        4' '4 +\\n                        5'\n",
      " '9 +\\n                        3' '25 +\\n                        5'\n",
      " '8 +\\n                        0' '9 +\\n                        9'\n",
      " '14 +\\n                        6' '10 +\\n                        1']\n"
     ]
    }
   ],
   "source": [
    "print(df['celly'].unique())"
   ]
  },
  {
   "cell_type": "code",
   "execution_count": 19,
   "metadata": {},
   "outputs": [],
   "source": [
    "df['celly'] = df['celly'].apply(lambda x: x.replace('Stüdyo', '1 + 0'))\n",
    "df['celly'] = df['celly'].apply(lambda x: x.replace('\\n', ''))\n",
    "df['room'] = df['celly'].apply(lambda x: x.split('+')[0]).astype(int)\n",
    "df['living_room'] = df['celly'].apply(lambda x: x.split('+')[1]).astype(int)"
   ]
  },
  {
   "cell_type": "code",
   "execution_count": 20,
   "metadata": {},
   "outputs": [
    {
     "name": "stdout",
     "output_type": "stream",
     "text": [
      "[ 1  3  2  4  5  6  7 21  9  8 41 31 25 14 10]\n",
      "[ 1  2  0  4 15 25  3  5  9  6]\n"
     ]
    }
   ],
   "source": [
    "print(df['room'].unique())\n",
    "print(df['living_room'].unique())"
   ]
  },
  {
   "cell_type": "code",
   "execution_count": 21,
   "metadata": {},
   "outputs": [],
   "source": [
    "drop_columns(df, ['celly'])"
   ]
  },
  {
   "cell_type": "code",
   "execution_count": 22,
   "metadata": {},
   "outputs": [
    {
     "name": "stdout",
     "output_type": "stream",
     "text": [
      "<class 'pandas.core.frame.DataFrame'>\n",
      "RangeIndex: 8136 entries, 0 to 8135\n",
      "Data columns (total 9 columns):\n",
      " #   Column           Non-Null Count  Dtype \n",
      "---  ------           --------------  ----- \n",
      " 0   list-view-price  8136 non-null   object\n",
      " 1   celly 2          8136 non-null   object\n",
      " 2   celly 3          8136 non-null   object\n",
      " 3   celly 4          6858 non-null   object\n",
      " 4   city             8136 non-null   object\n",
      " 5   district         8136 non-null   object\n",
      " 6   neighborhood     8136 non-null   object\n",
      " 7   room             8136 non-null   int64 \n",
      " 8   living_room      8136 non-null   int64 \n",
      "dtypes: int64(2), object(7)\n",
      "memory usage: 572.2+ KB\n",
      "None\n"
     ]
    }
   ],
   "source": [
    "print(df.info())"
   ]
  },
  {
   "cell_type": "code",
   "execution_count": 23,
   "metadata": {},
   "outputs": [
    {
     "name": "stdout",
     "output_type": "stream",
     "text": [
      "['55 m²' '150 m²' '60 m²' '160 m²' '135 m²' '67 m²' '140 m²' '170 m²'\n",
      " '130 m²' '230 m²' '220 m²' '210 m²' '89 m²' '120 m²' '200 m²' '355 m²'\n",
      " '75 m²' '110 m²' '100 m²' '65 m²' '145 m²' '115 m²' '1.000 m²' '250 m²'\n",
      " '105 m²' '50 m²' '87 m²' '90 m²' '85 m²' '155 m²' '275 m²' '240 m²'\n",
      " '95 m²' '174 m²' '80 m²' '125 m²' '180 m²' '165 m²' '350 m²' '97 m²'\n",
      " '45 m²' '300 m²' '84 m²' '42 m²' '98 m²' '86 m²' '500 m²' '70 m²' '51 m²'\n",
      " '73 m²' '132 m²' '325 m²' '141 m²' '450 m²' '600 m²' '47 m²' '72 m²'\n",
      " '71 m²' '3.000 m²' '175 m²' '320 m²' '280 m²' '156 m²' '190 m²' '78 m²'\n",
      " '162 m²' '185 m²' '18 m²' '330 m²' '151 m²' '56 m²' '136 m²' '131 m²'\n",
      " '48 m²' '580 m²' '119 m²' '147 m²' '77 m²' '245 m²' '35 m²' '375 m²'\n",
      " '146 m²' '161 m²' '163 m²' '149 m²' '206 m²' '138 m²' '93 m²' '63 m²'\n",
      " '41 m²' '183 m²' '96 m²' '108 m²' '76 m²' '475 m²' '359 m²' '124 m²'\n",
      " '91 m²' '194 m²' '43 m²' '4.500 m²' '68 m²' '205 m²' '20 m²' '103 m²'\n",
      " '53 m²' '270 m²' '58 m²' '302 m²' '505 m²' '800 m²' '168 m²' '154 m²'\n",
      " '368 m²' '178 m²' '40 m²' '750 m²' '92 m²' '181 m²' '400 m²' '30 m²'\n",
      " '260 m²' '460 m²' '390 m²' '64 m²' '360 m²' '340 m²' '550 m²' '38 m²'\n",
      " '121 m²' '4.000 m²' '295 m²' '112 m²' '137 m²' '22 m²' '128 m²'\n",
      " '3.200 m²' '440 m²' '122 m²' '370 m²' '380 m²' '204 m²' '148 m²' '142 m²'\n",
      " '520 m²' '166 m²' '870 m²' '143 m²' '57 m²' '286 m²' '81 m²' '116 m²'\n",
      " '209 m²' '59 m²' '106 m²' '74 m²' '1.301 m²' '52 m²' '167 m²' '217 m²'\n",
      " '25 m²' '290 m²' '196 m²' '184 m²' '159 m²' '195 m²' '640 m²' '285 m²'\n",
      " '235 m²' '337 m²' '211 m²' '134 m²' '832 m²' '152 m²' '88 m²' '213 m²'\n",
      " '126 m²' '255 m²' '199 m²' '127 m²' '11 m²' '66 m²' '399 m²' '187 m²'\n",
      " '341 m²' '745 m²' '118 m²' '144 m²' '15 m²' '535 m²' '5.500 m²' '114 m²'\n",
      " '208 m²' '94 m²' '46 m²' '173 m²' '900 m²' '225 m²' '402 m²' '111 m²'\n",
      " '193 m²' '1.100 m²' '212 m²' '102 m²' '177 m²' '101 m²' '164 m²' '158 m²'\n",
      " '62 m²' '172 m²' '9.000 m²' '21 m²' '117 m²' '82 m²' '49 m²' '176 m²'\n",
      " '182 m²' '981 m²' '256 m²' '32 m²' '3.510 m²' '215 m²' '1.057 m²'\n",
      " '171 m²' '79 m²' '169 m²' '28 m²' '104 m²' '201 m²' '310 m²' '1.150 m²'\n",
      " '2.000 m²' '228 m²' '700 m²' '349 m²' '203 m²' '510 m²' '31 m²' '33 m²'\n",
      " '950 m²' '650 m²' '252 m²' '493 m²' '265 m²' '1.400 m²' '5 m²' '113 m²'\n",
      " '36 m²' '317 m²' '850 m²' '249 m²' '109 m²' '420 m²' '995 m²' '545 m²'\n",
      " '192 m²' '1.250 m²' '490 m²' '760 m²' '157 m²' '54 m²' '405 m²' '99 m²']\n"
     ]
    }
   ],
   "source": [
    "print(df['celly 2'].unique())"
   ]
  },
  {
   "cell_type": "code",
   "execution_count": 24,
   "metadata": {},
   "outputs": [],
   "source": [
    "df['celly 2'] = df['celly 2'].apply(lambda x: x.replace('.', ''))\n",
    "df['area'] = df['celly 2'].apply(lambda x: x.split(' ')[0]).astype(int)"
   ]
  },
  {
   "cell_type": "code",
   "execution_count": 25,
   "metadata": {},
   "outputs": [
    {
     "name": "stdout",
     "output_type": "stream",
     "text": [
      "[  55  150   60  160  135   67  140  170  130  230  220  210   89  120\n",
      "  200  355   75  110  100   65  145  115 1000  250  105   50   87   90\n",
      "   85  155  275  240   95  174   80  125  180  165  350   97   45  300\n",
      "   84   42   98   86  500   70   51   73  132  325  141  450  600   47\n",
      "   72   71 3000  175  320  280  156  190   78  162  185   18  330  151\n",
      "   56  136  131   48  580  119  147   77  245   35  375  146  161  163\n",
      "  149  206  138   93   63   41  183   96  108   76  475  359  124   91\n",
      "  194   43 4500   68  205   20  103   53  270   58  302  505  800  168\n",
      "  154  368  178   40  750   92  181  400   30  260  460  390   64  360\n",
      "  340  550   38  121 4000  295  112  137   22  128 3200  440  122  370\n",
      "  380  204  148  142  520  166  870  143   57  286   81  116  209   59\n",
      "  106   74 1301   52  167  217   25  290  196  184  159  195  640  285\n",
      "  235  337  211  134  832  152   88  213  126  255  199  127   11   66\n",
      "  399  187  341  745  118  144   15  535 5500  114  208   94   46  173\n",
      "  900  225  402  111  193 1100  212  102  177  101  164  158   62  172\n",
      " 9000   21  117   82   49  176  182  981  256   32 3510  215 1057  171\n",
      "   79  169   28  104  201  310 1150 2000  228  700  349  203  510   31\n",
      "   33  950  650  252  493  265 1400    5  113   36  317  850  249  109\n",
      "  420  995  545  192 1250  490  760  157   54  405   99]\n"
     ]
    }
   ],
   "source": [
    "print(df['area'].unique())"
   ]
  },
  {
   "cell_type": "code",
   "execution_count": 26,
   "metadata": {},
   "outputs": [],
   "source": [
    "drop_columns(df, ['celly 2'])"
   ]
  },
  {
   "cell_type": "code",
   "execution_count": 27,
   "metadata": {},
   "outputs": [
    {
     "name": "stdout",
     "output_type": "stream",
     "text": [
      "<class 'pandas.core.frame.DataFrame'>\n",
      "RangeIndex: 8136 entries, 0 to 8135\n",
      "Data columns (total 9 columns):\n",
      " #   Column           Non-Null Count  Dtype \n",
      "---  ------           --------------  ----- \n",
      " 0   list-view-price  8136 non-null   object\n",
      " 1   celly 3          8136 non-null   object\n",
      " 2   celly 4          6858 non-null   object\n",
      " 3   city             8136 non-null   object\n",
      " 4   district         8136 non-null   object\n",
      " 5   neighborhood     8136 non-null   object\n",
      " 6   room             8136 non-null   int64 \n",
      " 7   living_room      8136 non-null   int64 \n",
      " 8   area             8136 non-null   int64 \n",
      "dtypes: int64(3), object(6)\n",
      "memory usage: 572.2+ KB\n",
      "None\n"
     ]
    }
   ],
   "source": [
    "print(df.info())"
   ]
  },
  {
   "cell_type": "code",
   "execution_count": 28,
   "metadata": {},
   "outputs": [
    {
     "name": "stdout",
     "output_type": "stream",
     "text": [
      "['25\\n                      Yaşında' '35\\n                      Yaşında'\n",
      " '2\\n                      Yaşında' '27\\n                      Yaşında'\n",
      " '15\\n                      Yaşında' '10\\n                      Yaşında'\n",
      " '20\\n                      Yaşında' '30\\n                      Yaşında'\n",
      " '16\\n                      Yaşında' '11\\n                      Yaşında'\n",
      " '31\\n                      Yaşında' 'Sıfır Bina'\n",
      " '5\\n                      Yaşında' '26\\n                      Yaşında'\n",
      " '12\\n                      Yaşında' '4\\n                      Yaşında'\n",
      " '6\\n                      Yaşında' '22\\n                      Yaşında'\n",
      " '23\\n                      Yaşında' '29\\n                      Yaşında'\n",
      " '3\\n                      Yaşında' '8\\n                      Yaşında'\n",
      " '33\\n                      Yaşında' '50\\n                      Yaşında'\n",
      " '7\\n                      Yaşında' '18\\n                      Yaşında'\n",
      " '32\\n                      Yaşında' '28\\n                      Yaşında'\n",
      " '14\\n                      Yaşında' '40\\n                      Yaşında'\n",
      " '9\\n                      Yaşında' '21\\n                      Yaşında'\n",
      " '45\\n                      Yaşında' '38\\n                      Yaşında'\n",
      " '19\\n                      Yaşında' '24\\n                      Yaşında'\n",
      " '17\\n                      Yaşında' '1\\n                      Yaşında'\n",
      " '36\\n                      Yaşında' '34\\n                      Yaşında'\n",
      " '13\\n                      Yaşında' '42\\n                      Yaşında'\n",
      " '44\\n                      Yaşında' '43\\n                      Yaşında'\n",
      " '37\\n                      Yaşında' '55\\n                      Yaşında'\n",
      " '47\\n                      Yaşında' '39\\n                      Yaşında'\n",
      " '49\\n                      Yaşında' '52\\n                      Yaşında'\n",
      " '300\\n                      Yaşında' '199\\n                      Yaşında'\n",
      " '48\\n                      Yaşında' '60\\n                      Yaşında'\n",
      " '61\\n                      Yaşında' '600\\n                      Yaşında'\n",
      " '100\\n                      Yaşında']\n"
     ]
    }
   ],
   "source": [
    "print(df['celly 3'].unique())"
   ]
  },
  {
   "cell_type": "code",
   "execution_count": 29,
   "metadata": {},
   "outputs": [],
   "source": [
    "df['celly 3'] = df['celly 3'].apply(lambda x: x.replace('Sıfır Bina', '0 Yaşında'))\n",
    "df['celly 3'] = df['celly 3'].apply(lambda x: x.replace('\\n', ' '))\n",
    "df['age'] = df['celly 3'].apply(lambda x: x.split(' ')[0]).astype(int)"
   ]
  },
  {
   "cell_type": "code",
   "execution_count": 30,
   "metadata": {},
   "outputs": [
    {
     "name": "stdout",
     "output_type": "stream",
     "text": [
      "[ 25  35   2  27  15  10  20  30  16  11  31   0   5  26  12   4   6  22\n",
      "  23  29   3   8  33  50   7  18  32  28  14  40   9  21  45  38  19  24\n",
      "  17   1  36  34  13  42  44  43  37  55  47  39  49  52 300 199  48  60\n",
      "  61 600 100]\n"
     ]
    }
   ],
   "source": [
    "print(df['age'].unique())"
   ]
  },
  {
   "cell_type": "code",
   "execution_count": 31,
   "metadata": {},
   "outputs": [],
   "source": [
    "drop_columns(df, ['celly 3'])"
   ]
  },
  {
   "cell_type": "code",
   "execution_count": 32,
   "metadata": {},
   "outputs": [
    {
     "name": "stdout",
     "output_type": "stream",
     "text": [
      "<class 'pandas.core.frame.DataFrame'>\n",
      "RangeIndex: 8136 entries, 0 to 8135\n",
      "Data columns (total 9 columns):\n",
      " #   Column           Non-Null Count  Dtype \n",
      "---  ------           --------------  ----- \n",
      " 0   list-view-price  8136 non-null   object\n",
      " 1   celly 4          6858 non-null   object\n",
      " 2   city             8136 non-null   object\n",
      " 3   district         8136 non-null   object\n",
      " 4   neighborhood     8136 non-null   object\n",
      " 5   room             8136 non-null   int64 \n",
      " 6   living_room      8136 non-null   int64 \n",
      " 7   area             8136 non-null   int64 \n",
      " 8   age              8136 non-null   int64 \n",
      "dtypes: int64(4), object(5)\n",
      "memory usage: 572.2+ KB\n",
      "None\n"
     ]
    }
   ],
   "source": [
    "print(df.info())"
   ]
  },
  {
   "cell_type": "code",
   "execution_count": 33,
   "metadata": {},
   "outputs": [
    {
     "name": "stdout",
     "output_type": "stream",
     "text": [
      "['Yüksek Giriş' '3. Kat' 'Ara Kat' '4. Kat' '2. Kat' 'Zemin' nan\n",
      " 'Tripleks' 'Villa Katı' 'Bahçe Katı' '1. Kat' '8. Kat' '6. Kat'\n",
      " 'Giriş Katı' '5. Kat' '7. Kat' '21 ve üzeri' 'En Üst Kat' 'Teras Katı'\n",
      " '13. Kat' 'Kot 1' '9. Kat' 'Çatı Katı' '10. Kat' '12. Kat' 'Kot 2'\n",
      " '15. Kat' 'Bodrum ve Zemin' '11. Kat' 'Kot 3' '18. Kat' '20. Kat'\n",
      " 'Yarı Bodrum' '14. Kat' '16. Kat' '17. Kat' 'Asma Kat' 'Bodrum' '19. Kat']\n"
     ]
    }
   ],
   "source": [
    "print(df['celly 4'].unique())"
   ]
  },
  {
   "cell_type": "code",
   "execution_count": 35,
   "metadata": {},
   "outputs": [],
   "source": [
    "replace_dict = {\n",
    "    'nan': '2. Kat',\n",
    "    'Kot 2': '-2. Kat',\n",
    "    'Kot 1': '-1. Kat',\n",
    "    'Yüksek Giriş': '1. Kat',\n",
    "    'Ara Kat': '3. Kat',\n",
    "    'En Üst Kat': '5. Kat',\n",
    "    'Bahçe Katı': '0. Kat',\n",
    "    'Yarı Bodrum': '0. Kat',\n",
    "    'Bodrum': '0. Kat',\n",
    "    'Kot 3': '-3. Kat',\n",
    "    'Çatı Katı': '5. Kat',\n",
    "    'Zemin': '0. Kat',\n",
    "    'Giriş Katı': '0. Kat',\n",
    "    'Villa Katı': '0. Kat',\n",
    "    '21 ve üzeri': '21. Kat',\n",
    "    'Bodrum ve Zemin': '0. Kat',\n",
    "    'Asma Kat': '1. Kat',\n",
    "    'Tripleks': '0. Kat',\n",
    "    'Teras Katı': '5. Kat',\n",
    "}\n",
    "df['celly 4'] = df['celly 4'].replace(replace_dict.keys(), replace_dict.values()).astype(str)\n",
    "df['celly 4'].dropna(inplace=True)\n",
    "df['floor'] = df['celly 4'].apply(lambda x: x.split('.')[0]).astype(int)"
   ]
  },
  {
   "cell_type": "code",
   "execution_count": 36,
   "metadata": {},
   "outputs": [
    {
     "name": "stdout",
     "output_type": "stream",
     "text": [
      "[ 1  3  4  2  0  8  6  5  7 21 13 -1  9 10 12 -2 15 11 -3 18 20 14 16 17\n",
      " 19]\n"
     ]
    }
   ],
   "source": [
    "print(df['floor'].unique())"
   ]
  },
  {
   "cell_type": "code",
   "execution_count": 37,
   "metadata": {},
   "outputs": [],
   "source": [
    "drop_columns(df, ['celly 4'])"
   ]
  },
  {
   "cell_type": "code",
   "execution_count": 38,
   "metadata": {},
   "outputs": [
    {
     "name": "stdout",
     "output_type": "stream",
     "text": [
      "<class 'pandas.core.frame.DataFrame'>\n",
      "RangeIndex: 8136 entries, 0 to 8135\n",
      "Data columns (total 9 columns):\n",
      " #   Column           Non-Null Count  Dtype \n",
      "---  ------           --------------  ----- \n",
      " 0   list-view-price  8136 non-null   object\n",
      " 1   city             8136 non-null   object\n",
      " 2   district         8136 non-null   object\n",
      " 3   neighborhood     8136 non-null   object\n",
      " 4   room             8136 non-null   int64 \n",
      " 5   living_room      8136 non-null   int64 \n",
      " 6   area             8136 non-null   int64 \n",
      " 7   age              8136 non-null   int64 \n",
      " 8   floor            8136 non-null   int64 \n",
      "dtypes: int64(5), object(4)\n",
      "memory usage: 572.2+ KB\n",
      "None\n"
     ]
    }
   ],
   "source": [
    "print(df.info())"
   ]
  },
  {
   "cell_type": "code",
   "execution_count": 39,
   "metadata": {},
   "outputs": [
    {
     "name": "stdout",
     "output_type": "stream",
     "text": [
      "['12.000' '16.000' '200' '18.000' '45.000' '35.000' '25.000' '22.000'\n",
      " '15.000' '24.000' '240.000' '1.200.000' '30.000' '20.000' '180.000'\n",
      " '60.000' '10.500' '10.000' '55.000' '13.000' '12.500' '21.000' '250.000'\n",
      " '190.000' '42.500' '17.000' '11.000' '450.000' '27.500' '80.000' '23.000'\n",
      " '550.000' '19.750' '75.000' '50.000' '34.000' '19.500' '28.500' '24.500'\n",
      " '325.000' '28.000' '29.000' '750.000' '600.000' '16.750' '500.000'\n",
      " '14.000' '220.000' '19.000' '21.500' '350.000' '9.000' '14.500' '25.500'\n",
      " '18.500' '300.000' '480.000' '150.000' '5.000' '16.500' '525.000'\n",
      " '370.000' '13.750' '17.500' '27.000' '11.500' '200.000' '90.000' '64.000'\n",
      " '15.750' '118.000' '1.000.000' '400.000' '70.000' '13.500' '210.000'\n",
      " '38.000' '1.800.000' '31.500' '57.500' '49.900' '2.000' '4.875.000'\n",
      " '8.500' '700.000' '15.250' '7.000' '40.000' '18.750' '22.500' '1.250.000'\n",
      " '3.500' '32.000' '104.000' '1.600.000' '120.000' '20.500' '650.000'\n",
      " '65.000' '48.000' '850.000' '17.250' '48.500' '100.000' '22.500.000'\n",
      " '115.000' '57.000' '53.000' '66.000' '12.950' '62.000' '265.000' '18.250'\n",
      " '185.000' '41.000' '110.000' '26.900' '17.750' '62.500' '130.000' '7.500'\n",
      " '33.000' '29.999' '14.750' '37.000' '16.200' '275.000' '26.000' '8.000'\n",
      " '375.000' '8.250' '39.500' '98.500' '46.000' '28.900' '9.250' '58.000'\n",
      " '15.900' '10.757' '85.000' '10.750' '1.400.000' '175.000' '460.000'\n",
      " '29.500' '13.250' '20.999' '31.000' '9.500' '15.500' '56.000' '14.700'\n",
      " '269.900' '14.100' '530.000' '16.250' '49.000' '36.500' '225.000' '6.500'\n",
      " '17.950' '10.900' '8.750' '620.000' '140.000' '9.750' '125.000' '24.750'\n",
      " '2.550.000' '1.000' '6.000' '95.000' '37.500' '7.250' '43.000' '5.500'\n",
      " '83.000' '380.000' '280.000' '350' '4.500' '800.000' '39.000' '21.750'\n",
      " '235.000' '96.000' '1.100.000' '425.000' '52.500' '19.360' '4.000'\n",
      " '9.800' '680.000' '15.590.000' '34.500' '170.000' '26.500' '18.450'\n",
      " '1.650.000' '23.500' '365.000' '36.000' '10.400' '10.999' '160.000'\n",
      " '7.950' '785.000' '2.250.000' '260.000' '13.900.000' '165.000' '2.500'\n",
      " '290.000' '300' '475.000' '9.999' '9.200' '330.000' '2.265.000' '590.000'\n",
      " '23' '29.750' '14.250' '1.050.000' '1.750.000' '415.000' '430.000'\n",
      " '11.111' '720.000' '625.000' '1.350.000' '15.950' '14.999' '195.000'\n",
      " '8.000.000' '1.025.000' '67.000' '900.000' '1.500' '14.990' '950.000'\n",
      " '270.000' '3.000' '10.800' '13.950' '780.000' '320.000' '1.250' '63.000'\n",
      " '1.200' '675.000' '8.950' '760.000' '420.000' '13' '67.500' '12' '26.750'\n",
      " '4.950' '440.000' '15' '390.000' '1.725.000' '7.800' '7.750' '12.750'\n",
      " '16.500.000' '11.250' '7.900' '12.850' '11.750' 7.5 4.5 10.0 8.0 19.0 6.5\n",
      " 18.5 9.5 7.0 12.0 6.0 8.5 15.0 9.0 7.75 6.75 16.5 20.0 22.0 7.25 21.0\n",
      " 14.0 '4.250' '5.250' '6.750' '6.600' '5.100' '5.600' '9.850' '26.000.000'\n",
      " '3.400' '14.300' '8.700' '9.950.000' '120.000.000' '111' '11' '890.000'\n",
      " '42.000' '4.650.000' '1.700' '8.550' '8.900' '7.200' '3.500.000' '11.900'\n",
      " '1.190.000' '1.840.000' '6.250' '8.100' '750' '7.999' '3.999' '6.900'\n",
      " '5.750' '7.400' '6.999' '1.850.000' '7.100' '6.800' '5.700' '9.900'\n",
      " '4.999' '4.750' '5.999' '8.400' '8.300' '44.000' '740.000' '2.500.000'\n",
      " '360.000' '105.000' '355.000' '255.000' '72.000' '1' '485.000' '285.000'\n",
      " '59.500' '245.000' '4.050.000' '135.000' '32.500' '510.000' '1.225.000'\n",
      " '3.900.000' '3.250' '30.000.000' '39.900' '243.000' '2.300.000'\n",
      " '25.000.000' '49.950' '73.000' '840.000' '2.275.000' '410.000' '310.000'\n",
      " '7.300' '32.750' '3.750' '3.000.000' '1.700.000' '1.150.000' '2.750'\n",
      " '4.100' '16.350' '17.000.000' '921.180' '145.000' '41.600' '495.000'\n",
      " '65.500' '2.250' '595.000' '19.800' '54.000' '50.000.000' '48.000.000'\n",
      " '465.000' '860.000' '630.000' '995.000' '241.800' '340.000' '4.450.000'\n",
      " '6.500.000' '2.175.000' '2.000.000' '2.200.000' '6.150.000' '16.400'\n",
      " '295.000' '1.070.000' '87.000' '1.750' '875.000' '560.000' '3.250.000'\n",
      " '790.000']\n"
     ]
    }
   ],
   "source": [
    "print(df['list-view-price'].unique())"
   ]
  },
  {
   "cell_type": "code",
   "execution_count": 40,
   "metadata": {},
   "outputs": [],
   "source": [
    "df['list-view-price'] = df['list-view-price'].astype(str).apply(lambda x: x.replace('.', ''))\n",
    "df['price'] = df['list-view-price'].astype(int)"
   ]
  },
  {
   "cell_type": "code",
   "execution_count": 41,
   "metadata": {},
   "outputs": [
    {
     "name": "stdout",
     "output_type": "stream",
     "text": [
      "[    12000     16000       200     18000     45000     35000     25000\n",
      "     22000     15000     24000    240000   1200000     30000     20000\n",
      "    180000     60000     10500     10000     55000     13000     12500\n",
      "     21000    250000    190000     42500     17000     11000    450000\n",
      "     27500     80000     23000    550000     19750     75000     50000\n",
      "     34000     19500     28500     24500    325000     28000     29000\n",
      "    750000    600000     16750    500000     14000    220000     19000\n",
      "     21500    350000      9000     14500     25500     18500    300000\n",
      "    480000    150000      5000     16500    525000    370000     13750\n",
      "     17500     27000     11500    200000     90000     64000     15750\n",
      "    118000   1000000    400000     70000     13500    210000     38000\n",
      "   1800000     31500     57500     49900      2000   4875000      8500\n",
      "    700000     15250      7000     40000     18750     22500   1250000\n",
      "      3500     32000    104000   1600000    120000     20500    650000\n",
      "     65000     48000    850000     17250     48500    100000  22500000\n",
      "    115000     57000     53000     66000     12950     62000    265000\n",
      "     18250    185000     41000    110000     26900     17750     62500\n",
      "    130000      7500     33000     29999     14750     37000     16200\n",
      "    275000     26000      8000    375000      8250     39500     98500\n",
      "     46000     28900      9250     58000     15900     10757     85000\n",
      "     10750   1400000    175000    460000     29500     13250     20999\n",
      "     31000      9500     15500     56000     14700    269900     14100\n",
      "    530000     16250     49000     36500    225000      6500     17950\n",
      "     10900      8750    620000    140000      9750    125000     24750\n",
      "   2550000      1000      6000     95000     37500      7250     43000\n",
      "      5500     83000    380000    280000       350      4500    800000\n",
      "     39000     21750    235000     96000   1100000    425000     52500\n",
      "     19360      4000      9800    680000  15590000     34500    170000\n",
      "     26500     18450   1650000     23500    365000     36000     10400\n",
      "     10999    160000      7950    785000   2250000    260000  13900000\n",
      "    165000      2500    290000       300    475000      9999      9200\n",
      "    330000   2265000    590000        23     29750     14250   1050000\n",
      "   1750000    415000    430000     11111    720000    625000   1350000\n",
      "     15950     14999    195000   8000000   1025000     67000    900000\n",
      "      1500     14990    950000    270000      3000     10800     13950\n",
      "    780000    320000      1250     63000      1200    675000      8950\n",
      "    760000    420000        13     67500        12     26750      4950\n",
      "    440000        15    390000   1725000      7800      7750     12750\n",
      "  16500000     11250      7900     12850     11750        75        45\n",
      "       100        80       190        65       185        95        70\n",
      "       120        60        85       150        90       775       675\n",
      "       165       220       725       210       140      4250      5250\n",
      "      6750      6600      5100      5600      9850  26000000      3400\n",
      "     14300      8700   9950000 120000000       111        11    890000\n",
      "     42000   4650000      1700      8550      8900      7200   3500000\n",
      "     11900   1190000   1840000      6250      8100       750      7999\n",
      "      3999      6900      5750      7400      6999   1850000      7100\n",
      "      6800      5700      9900      4999      4750      5999      8400\n",
      "      8300     44000    740000   2500000    360000    105000    355000\n",
      "    255000     72000         1    485000    285000     59500    245000\n",
      "   4050000    135000     32500    510000   1225000   3900000      3250\n",
      "  30000000     39900    243000   2300000  25000000     49950     73000\n",
      "    840000   2275000    410000    310000      7300     32750      3750\n",
      "   3000000   1700000   1150000      2750      4100     16350  17000000\n",
      "    921180    145000     41600    495000     65500      2250    595000\n",
      "     19800     54000  50000000  48000000    465000    860000    630000\n",
      "    995000    241800    340000   4450000   6500000   2175000   2000000\n",
      "   2200000   6150000     16400    295000   1070000     87000      1750\n",
      "    875000    560000   3250000    790000]\n"
     ]
    }
   ],
   "source": [
    "print(df['price'].unique())"
   ]
  },
  {
   "cell_type": "code",
   "execution_count": 42,
   "metadata": {},
   "outputs": [],
   "source": [
    "drop_columns(df, ['list-view-price'])"
   ]
  },
  {
   "cell_type": "code",
   "execution_count": 43,
   "metadata": {},
   "outputs": [
    {
     "name": "stdout",
     "output_type": "stream",
     "text": [
      "Index(['city', 'district', 'neighborhood', 'room', 'living_room', 'area',\n",
      "       'age', 'floor', 'price'],\n",
      "      dtype='object')\n"
     ]
    }
   ],
   "source": [
    "print(df.columns)"
   ]
  },
  {
   "cell_type": "code",
   "execution_count": 44,
   "metadata": {},
   "outputs": [
    {
     "name": "stdout",
     "output_type": "stream",
     "text": [
      "<class 'pandas.core.frame.DataFrame'>\n",
      "RangeIndex: 8136 entries, 0 to 8135\n",
      "Data columns (total 9 columns):\n",
      " #   Column        Non-Null Count  Dtype \n",
      "---  ------        --------------  ----- \n",
      " 0   city          8136 non-null   object\n",
      " 1   district      8136 non-null   object\n",
      " 2   neighborhood  8136 non-null   object\n",
      " 3   room          8136 non-null   int64 \n",
      " 4   living_room   8136 non-null   int64 \n",
      " 5   area          8136 non-null   int64 \n",
      " 6   age           8136 non-null   int64 \n",
      " 7   floor         8136 non-null   int64 \n",
      " 8   price         8136 non-null   int64 \n",
      "dtypes: int64(6), object(3)\n",
      "memory usage: 572.2+ KB\n",
      "None\n"
     ]
    }
   ],
   "source": [
    "print(df.info())"
   ]
  },
  {
   "cell_type": "code",
   "execution_count": 45,
   "metadata": {},
   "outputs": [],
   "source": [
    "# Exporting data to data.csv file\n",
    "df.to_csv('data.csv', index=False)"
   ]
  },
  {
   "cell_type": "markdown",
   "metadata": {},
   "source": [
    "## Statistical analysis of data and elimination of outliers"
   ]
  },
  {
   "cell_type": "code",
   "execution_count": 46,
   "metadata": {},
   "outputs": [],
   "source": [
    "df = pd.read_csv('data.csv')"
   ]
  },
  {
   "cell_type": "code",
   "execution_count": 47,
   "metadata": {},
   "outputs": [
    {
     "name": "stdout",
     "output_type": "stream",
     "text": [
      "<class 'pandas.core.frame.DataFrame'>\n",
      "RangeIndex: 8136 entries, 0 to 8135\n",
      "Data columns (total 9 columns):\n",
      " #   Column        Non-Null Count  Dtype \n",
      "---  ------        --------------  ----- \n",
      " 0   city          8136 non-null   object\n",
      " 1   district      8136 non-null   object\n",
      " 2   neighborhood  8136 non-null   object\n",
      " 3   room          8136 non-null   int64 \n",
      " 4   living_room   8136 non-null   int64 \n",
      " 5   area          8136 non-null   int64 \n",
      " 6   age           8136 non-null   int64 \n",
      " 7   floor         8136 non-null   int64 \n",
      " 8   price         8136 non-null   int64 \n",
      "dtypes: int64(6), object(3)\n",
      "memory usage: 572.2+ KB\n",
      "None\n"
     ]
    }
   ],
   "source": [
    "print(df.info())"
   ]
  },
  {
   "cell_type": "code",
   "execution_count": 48,
   "metadata": {},
   "outputs": [],
   "source": [
    "df['city'] = df['city'].astype('category')\n",
    "df['district'] = df['district'].astype('category')\n",
    "df['neighborhood'] = df['neighborhood'].astype('category')\n",
    "df['room'] = df['room'].astype('int')\n",
    "df['living_room'] = df['living_room'].astype('int')\n",
    "df['area'] = df['area'].astype('int')\n",
    "df['age'] = df['age'].astype('int')\n",
    "df['floor'] = df['floor'].astype('int')\n",
    "df['price'] = df['price'].astype('int')"
   ]
  },
  {
   "cell_type": "code",
   "execution_count": 49,
   "metadata": {},
   "outputs": [
    {
     "name": "stdout",
     "output_type": "stream",
     "text": [
      "<class 'pandas.core.frame.DataFrame'>\n",
      "RangeIndex: 8136 entries, 0 to 8135\n",
      "Data columns (total 9 columns):\n",
      " #   Column        Non-Null Count  Dtype   \n",
      "---  ------        --------------  -----   \n",
      " 0   city          8136 non-null   category\n",
      " 1   district      8136 non-null   category\n",
      " 2   neighborhood  8136 non-null   category\n",
      " 3   room          8136 non-null   int64   \n",
      " 4   living_room   8136 non-null   int64   \n",
      " 5   area          8136 non-null   int64   \n",
      " 6   age           8136 non-null   int64   \n",
      " 7   floor         8136 non-null   int64   \n",
      " 8   price         8136 non-null   int64   \n",
      "dtypes: category(3), int64(6)\n",
      "memory usage: 438.2 KB\n",
      "None\n"
     ]
    }
   ],
   "source": [
    "print(df.info())"
   ]
  },
  {
   "cell_type": "markdown",
   "metadata": {},
   "source": [
    "Finding minimum, maximum and quartile values of numerical variables"
   ]
  },
  {
   "cell_type": "code",
   "execution_count": 50,
   "metadata": {},
   "outputs": [
    {
     "name": "stdout",
     "output_type": "stream",
     "text": [
      "Column: room, min: 0.5, max: 4.5\n",
      "Column: living_room, min: 1.0, max: 1.0\n",
      "Column: area, min: -17.5, max: 242.5\n",
      "Column: age, min: -20.0, max: 44.0\n",
      "Column: floor, min: -2.0, max: 6.0\n",
      "Column: price, min: -18000.0, max: 62000.0\n"
     ]
    }
   ],
   "source": [
    "columns = df.select_dtypes(include=[np.number]).columns\n",
    "min_values = []\n",
    "max_values = []\n",
    "for column in columns:\n",
    "    Q1 = df[column].quantile(0.25)\n",
    "    Q3 = df[column].quantile(0.75)\n",
    "    IQR = Q3 - Q1\n",
    "    min_value = Q1 - 1.5 * IQR\n",
    "    max_value = Q3 + 1.5 * IQR\n",
    "    min_values.append(min_value)\n",
    "    max_values.append(max_value)\n",
    "    print(f\"Column: {column}, min: {min_value}, max: {max_value}\")"
   ]
  },
  {
   "cell_type": "markdown",
   "metadata": {},
   "source": [
    "elimination of outliers"
   ]
  },
  {
   "cell_type": "code",
   "execution_count": 51,
   "metadata": {},
   "outputs": [],
   "source": [
    "for i, column in enumerate(columns):\n",
    "    df = df[(df[column] >= min_values[i]) & (df[column] <= max_values[i])]"
   ]
  },
  {
   "cell_type": "code",
   "execution_count": 52,
   "metadata": {},
   "outputs": [
    {
     "name": "stdout",
     "output_type": "stream",
     "text": [
      "<class 'pandas.core.frame.DataFrame'>\n",
      "Index: 6212 entries, 0 to 8135\n",
      "Data columns (total 9 columns):\n",
      " #   Column        Non-Null Count  Dtype   \n",
      "---  ------        --------------  -----   \n",
      " 0   city          6212 non-null   category\n",
      " 1   district      6212 non-null   category\n",
      " 2   neighborhood  6212 non-null   category\n",
      " 3   room          6212 non-null   int64   \n",
      " 4   living_room   6212 non-null   int64   \n",
      " 5   area          6212 non-null   int64   \n",
      " 6   age           6212 non-null   int64   \n",
      " 7   floor         6212 non-null   int64   \n",
      " 8   price         6212 non-null   int64   \n",
      "dtypes: category(3), int64(6)\n",
      "memory usage: 388.9 KB\n",
      "None\n"
     ]
    }
   ],
   "source": [
    "print(df.info())"
   ]
  },
  {
   "cell_type": "code",
   "execution_count": 53,
   "metadata": {},
   "outputs": [
    {
     "name": "stdout",
     "output_type": "stream",
     "text": [
      "              room  living_room         area          age        floor  \\\n",
      "count  6212.000000       6212.0  6212.000000  6212.000000  6212.000000   \n",
      "mean      2.176272          1.0   104.669350    12.653896     2.199614   \n",
      "std       0.826815          0.0    39.442494    10.451565     1.589618   \n",
      "min       1.000000          1.0     5.000000     0.000000    -2.000000   \n",
      "25%       2.000000          1.0    75.000000     4.000000     1.000000   \n",
      "50%       2.000000          1.0   100.000000    10.000000     2.000000   \n",
      "75%       3.000000          1.0   130.000000    20.000000     3.000000   \n",
      "max       4.000000          1.0   240.000000    44.000000     6.000000   \n",
      "\n",
      "              price  \n",
      "count   6212.000000  \n",
      "mean   17900.975853  \n",
      "std    10467.582893  \n",
      "min        1.000000  \n",
      "25%    11000.000000  \n",
      "50%    15000.000000  \n",
      "75%    21000.000000  \n",
      "max    60000.000000  \n"
     ]
    }
   ],
   "source": [
    "print(df.describe())"
   ]
  },
  {
   "cell_type": "markdown",
   "metadata": {},
   "source": [
    "Manual correction for rental price"
   ]
  },
  {
   "cell_type": "code",
   "execution_count": 54,
   "metadata": {},
   "outputs": [],
   "source": [
    "df = df[df['price'] >= 3000]"
   ]
  },
  {
   "cell_type": "code",
   "execution_count": 55,
   "metadata": {},
   "outputs": [
    {
     "name": "stdout",
     "output_type": "stream",
     "text": [
      "<class 'pandas.core.frame.DataFrame'>\n",
      "Index: 6116 entries, 0 to 8135\n",
      "Data columns (total 9 columns):\n",
      " #   Column        Non-Null Count  Dtype   \n",
      "---  ------        --------------  -----   \n",
      " 0   city          6116 non-null   category\n",
      " 1   district      6116 non-null   category\n",
      " 2   neighborhood  6116 non-null   category\n",
      " 3   room          6116 non-null   int64   \n",
      " 4   living_room   6116 non-null   int64   \n",
      " 5   area          6116 non-null   int64   \n",
      " 6   age           6116 non-null   int64   \n",
      " 7   floor         6116 non-null   int64   \n",
      " 8   price         6116 non-null   int64   \n",
      "dtypes: category(3), int64(6)\n",
      "memory usage: 383.3 KB\n",
      "None\n"
     ]
    }
   ],
   "source": [
    "print(df.info())"
   ]
  },
  {
   "cell_type": "code",
   "execution_count": 56,
   "metadata": {},
   "outputs": [
    {
     "name": "stdout",
     "output_type": "stream",
     "text": [
      "              room  living_room         area          age        floor  \\\n",
      "count  6116.000000       6116.0  6116.000000  6116.000000  6116.000000   \n",
      "mean      2.180020          1.0   104.830445    12.698169     2.198496   \n",
      "std       0.826463          0.0    39.467687    10.465384     1.589161   \n",
      "min       1.000000          1.0     5.000000     0.000000    -2.000000   \n",
      "25%       2.000000          1.0    75.000000     4.000000     1.000000   \n",
      "50%       2.000000          1.0   100.000000    10.000000     2.000000   \n",
      "75%       3.000000          1.0   130.000000    20.000000     3.000000   \n",
      "max       4.000000          1.0   240.000000    44.000000     6.000000   \n",
      "\n",
      "              price  \n",
      "count   6116.000000  \n",
      "mean   18170.733976  \n",
      "std    10323.229150  \n",
      "min     3000.000000  \n",
      "25%    11500.000000  \n",
      "50%    15000.000000  \n",
      "75%    21000.000000  \n",
      "max    60000.000000  \n"
     ]
    }
   ],
   "source": [
    "print(df.describe())"
   ]
  },
  {
   "cell_type": "code",
   "execution_count": 57,
   "metadata": {},
   "outputs": [],
   "source": [
    "# Exporting cleaned data to data_cleaned.csv file\n",
    "df.to_csv('data_cleaned.csv', index=False)"
   ]
  }
 ],
 "metadata": {
  "kernelspec": {
   "display_name": "Python 3",
   "language": "python",
   "name": "python3"
  },
  "language_info": {
   "codemirror_mode": {
    "name": "ipython",
    "version": 3
   },
   "file_extension": ".py",
   "mimetype": "text/x-python",
   "name": "python",
   "nbconvert_exporter": "python",
   "pygments_lexer": "ipython3",
   "version": "3.12.4"
  }
 },
 "nbformat": 4,
 "nbformat_minor": 2
}
